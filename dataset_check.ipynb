{
 "cells": [
  {
   "cell_type": "code",
   "execution_count": 1,
   "metadata": {},
   "outputs": [],
   "source": [
    "from src.dataset import Dataset"
   ]
  },
  {
   "cell_type": "code",
   "execution_count": 2,
   "metadata": {},
   "outputs": [
    {
     "name": "stdout",
     "output_type": "stream",
     "text": [
      "Downloading https://zenodo.org/records/6496656/files/octmnist.npz to /home/Vivek/.medmnist/octmnist.npz\n"
     ]
    },
    {
     "name": "stderr",
     "output_type": "stream",
     "text": [
      "100%|██████████| 54938180/54938180 [04:05<00:00, 223623.73it/s]\n"
     ]
    },
    {
     "name": "stdout",
     "output_type": "stream",
     "text": [
      "Using downloaded and verified file: /home/Vivek/.medmnist/octmnist.npz\n",
      "Class names: {'0': 'choroidal neovascularization', '1': 'diabetic macular edema', '2': 'drusen', '3': 'normal'}\n",
      "\n"
     ]
    }
   ],
   "source": [
    "dataset = Dataset(dataflag='octmnist', BATCH_SIZE=64)\n",
    "dataset_train, dataset_valid, dataset_classes = dataset.get_datasets()\n",
    "print(f\"Class names: {dataset_classes}\\n\")\n"
   ]
  },
  {
   "cell_type": "code",
   "execution_count": 3,
   "metadata": {},
   "outputs": [
    {
     "name": "stdout",
     "output_type": "stream",
     "text": [
      "Using downloaded and verified file: /home/Vivek/.medmnist/dermamnist.npz\n",
      "Using downloaded and verified file: /home/Vivek/.medmnist/dermamnist.npz\n",
      "Class names: {'0': 'actinic keratoses and intraepithelial carcinoma', '1': 'basal cell carcinoma', '2': 'benign keratosis-like lesions', '3': 'dermatofibroma', '4': 'melanoma', '5': 'melanocytic nevi', '6': 'vascular lesions'}\n",
      "\n"
     ]
    }
   ],
   "source": [
    "dataset = Dataset(dataflag='dermamnist', BATCH_SIZE=64)\n",
    "dataset_train, dataset_valid, dataset_classes = dataset.get_datasets()\n",
    "print(f\"Class names: {dataset_classes}\\n\")"
   ]
  },
  {
   "cell_type": "code",
   "execution_count": 4,
   "metadata": {},
   "outputs": [
    {
     "name": "stdout",
     "output_type": "stream",
     "text": [
      "Downloading https://zenodo.org/records/6496656/files/retinamnist.npz to /home/Vivek/.medmnist/retinamnist.npz\n"
     ]
    },
    {
     "name": "stderr",
     "output_type": "stream",
     "text": [
      "100%|██████████| 3291041/3291041 [00:11<00:00, 296636.63it/s] "
     ]
    },
    {
     "name": "stdout",
     "output_type": "stream",
     "text": [
      "Using downloaded and verified file: /home/Vivek/.medmnist/retinamnist.npz\n",
      "Class names: {'0': '0', '1': '1', '2': '2', '3': '3', '4': '4'}\n",
      "\n"
     ]
    },
    {
     "name": "stderr",
     "output_type": "stream",
     "text": [
      "\n"
     ]
    }
   ],
   "source": [
    "dataset = Dataset(dataflag='retinamnist', BATCH_SIZE=64)\n",
    "dataset_train, dataset_valid, dataset_classes = dataset.get_datasets()\n",
    "print(f\"Class names: {dataset_classes}\\n\")"
   ]
  }
 ],
 "metadata": {
  "kernelspec": {
   "display_name": "Python 3",
   "language": "python",
   "name": "python3"
  },
  "language_info": {
   "codemirror_mode": {
    "name": "ipython",
    "version": 3
   },
   "file_extension": ".py",
   "mimetype": "text/x-python",
   "name": "python",
   "nbconvert_exporter": "python",
   "pygments_lexer": "ipython3",
   "version": "3.8.10"
  },
  "orig_nbformat": 4
 },
 "nbformat": 4,
 "nbformat_minor": 2
}
